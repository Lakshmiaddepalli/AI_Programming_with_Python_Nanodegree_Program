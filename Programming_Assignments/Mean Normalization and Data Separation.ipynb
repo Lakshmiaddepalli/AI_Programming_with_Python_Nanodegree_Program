{
 "cells": [
  {
   "cell_type": "markdown",
   "metadata": {},
   "source": [
    "# Mean Normalization\n",
    "\n",
    "In machine learning we use large amounts of data to train our models. Some machine learning algorithms may require that the data is *normalized* in order to work correctly. The idea of normalization, also known as *feature scaling*, is to ensure that all the data is on a similar scale, *i.e.* that all the data takes on a similar range of values. For example, we might have a dataset that has values between 0 and 5,000. By normalizing the data we can make the range of values be between 0 and 1.\n",
    "\n",
    "In this lab, you will be performing a different kind of feature scaling known as *mean normalization*. Mean normalization will scale the data, but instead of making the values be between 0 and 1, it will distribute the values evenly in some small interval around zero. For example, if we have a dataset that has values between 0 and 5,000, after mean normalization the range of values will be distributed in some small range around 0, for example between -3 to 3. Because the range of values are distributed evenly around zero, this guarantees that the average (mean) of all elements will be zero. Therefore, when you perform *mean normalization* your data will not only be scaled but it will also have an average of zero. \n",
    "\n",
    "# To Do:\n",
    "\n",
    "You will start by importing NumPy and creating a rank 2 ndarray of random integers between 0 and 5,000 (inclusive) with 1000 rows and 20 columns. This array will simulate a dataset with a wide range of values. Fill in the code below"
   ]
  },
  {
   "cell_type": "code",
   "execution_count": 1,
   "metadata": {},
   "outputs": [
    {
     "data": {
      "text/plain": [
       "(1000, 20)"
      ]
     },
     "execution_count": 1,
     "metadata": {},
     "output_type": "execute_result"
    }
   ],
   "source": [
    "# import NumPy into Python\n",
    "import numpy as np\n",
    "\n",
    "# Create a 1000 x 20 ndarray with random integers in the half-open interval [0, 5001).\n",
    "X = np.random.randint(0,5001,size=(1000,20))\n",
    "\n",
    "# print the shape of X\n",
    "X.shape"
   ]
  },
  {
   "cell_type": "markdown",
   "metadata": {},
   "source": [
    "Now that you created the array we will mean normalize it. We will perform mean normalization using the following equation:\n",
    "\n",
    "$\\mbox{Norm_Col}_i = \\frac{\\mbox{Col}_i - \\mu_i}{\\sigma_i}$\n",
    "\n",
    "where $\\mbox{Col}_i$ is the $i$th column of $X$, $\\mu_i$ is average of the values in the $i$th column of $X$, and $\\sigma_i$ is the standard deviation of the values in the $i$th column of $X$. In other words, mean normalization is performed by subtracting from each column of $X$ the average of its values, and then by dividing by the standard deviation of its values. In the space below, you will first calculate the average and standard deviation of each column of $X$. "
   ]
  },
  {
   "cell_type": "code",
   "execution_count": 2,
   "metadata": {},
   "outputs": [],
   "source": [
    "# Average of the values in each column of X\n",
    "ave_cols = np.average(X,axis=0)\n",
    "\n",
    "\n",
    "# Standard Deviation of the values in each column of X\n",
    "std_cols = np.std(X,axis=0)\n"
   ]
  },
  {
   "cell_type": "markdown",
   "metadata": {},
   "source": [
    "If you have done the above calculations correctly, then `ave_cols` and `std_cols`, should both be vectors with shape `(20,)` since $X$ has 20 columns. You can verify this by filling the code below:"
   ]
  },
  {
   "cell_type": "code",
   "execution_count": 3,
   "metadata": {},
   "outputs": [
    {
     "name": "stdout",
     "output_type": "stream",
     "text": [
      "(20,)\n",
      "(20,)\n"
     ]
    }
   ],
   "source": [
    "# Print the shape of ave_cols\n",
    "print(ave_cols.shape)\n",
    "\n",
    "# Print the shape of std_cols\n",
    "print(std_cols.shape)"
   ]
  },
  {
   "cell_type": "markdown",
   "metadata": {},
   "source": [
    "You can now take advantage of Broadcasting to calculate the mean normalized version of $X$ in just one line of code using the equation above. Fill in the code below"
   ]
  },
  {
   "cell_type": "code",
   "execution_count": 4,
   "metadata": {},
   "outputs": [],
   "source": [
    "# Mean normalize X\n",
    "X_norm = (X-ave_cols)/std_cols\n",
    "#print(X_norm)"
   ]
  },
  {
   "cell_type": "markdown",
   "metadata": {},
   "source": [
    "If you have performed the mean normalization correctly, then the average of all the elements in $X_{\\tiny{\\mbox{norm}}}$ should be close to zero, and they should be evenly distributed in some small interval around zero. You can verify this by filing the code below:"
   ]
  },
  {
   "cell_type": "code",
   "execution_count": 5,
   "metadata": {},
   "outputs": [
    {
     "name": "stdout",
     "output_type": "stream",
     "text": [
      "-1.98951966013e-17\n",
      "[-1.71512386 -1.68721826 -1.70532516 -1.70931401 -1.71885868 -1.69830862\n",
      " -1.67387015 -1.73336602 -1.66601999 -1.71549937 -1.73542328 -1.73333391\n",
      " -1.6756753  -1.83633911 -1.69368821 -1.79724655 -1.72150974 -1.8245352\n",
      " -1.83721398 -1.67812125]\n",
      "[-1.71512386 -1.68721826 -1.70532516 -1.70931401 -1.71885868 -1.69830862\n",
      " -1.67387015 -1.73336602 -1.66601999 -1.71549937 -1.73542328 -1.73333391\n",
      " -1.6756753  -1.83633911 -1.69368821 -1.79724655 -1.72150974 -1.8245352\n",
      " -1.83721398 -1.67812125]\n"
     ]
    }
   ],
   "source": [
    "# Print the average of all the values of X_norm\n",
    "print(np.average(X_norm))\n",
    "\n",
    "\n",
    "# Print the average of the minimum value in each column of X_norm\n",
    "print(np.min(X_norm,axis=0))\n",
    "\n",
    "# Print the average of the maximum value in each column of X_norm\n",
    "print(np.min(X_norm,axis=0))"
   ]
  },
  {
   "cell_type": "markdown",
   "metadata": {},
   "source": [
    "You should note that since $X$ was created using random integers, the above values will vary. \n",
    "\n",
    "# Data Separation\n",
    "\n",
    "After the data has been mean normalized, it is customary in machine learnig to split our dataset into three sets:\n",
    "\n",
    "1. A Training Set\n",
    "2. A Cross Validation Set\n",
    "3. A Test Set\n",
    "\n",
    "The dataset is usually divided such that the Training Set contains 60% of the data, the Cross Validation Set contains 20% of the data, and the Test Set contains 20% of the data. \n",
    "\n",
    "In this part of the lab you will separate `X_norm` into a Training Set, Cross Validation Set, and a Test Set. Each data set will contain rows of `X_norm` chosen at random, making sure that we don't pick the same row twice. This will guarantee that all the rows of `X_norm` are chosen and randomly distributed among the three new sets.\n",
    "\n",
    "You will start by creating a rank 1 ndarray that contains a random permutation of the row indices of `X_norm`. You can do this by using the `np.random.permutation()` function. The `np.random.permutation(N)` function creates a random permutation of integers from 0 to `N - 1`. Let's see an example:"
   ]
  },
  {
   "cell_type": "code",
   "execution_count": 6,
   "metadata": {},
   "outputs": [
    {
     "name": "stdout",
     "output_type": "stream",
     "text": [
      "[568 399 142 298 424  56 330 247  14 110 592 378 327 936  62 287  54 358\n",
      " 729 103 586 594 176 514 625 601  52  19 912 999 100 765 917 365 905 693\n",
      "   7 781 668 140 355 829 208 232 513   2 615 628 158 895 362 606 159 920\n",
      " 815 859 648 278 402 307 216  26 515 807 545 848 821 526 942 898 386  23\n",
      " 750 163 564 779 962 803 642 593 811 979  70  33 770 832 617 579 285 966\n",
      " 261 511 716 653 808 997 273 638 964 560 540 377 364 919 865 701 843 834\n",
      " 277 596 229  91 260 357 213 980 170 422 492 706 636 388 990 435 186  41\n",
      " 339 914 523 436 341 317 734 391 759  17 783 784 872 454 372  39 588 958\n",
      " 721 304 799 382 369 491 101  90 704 603 572 749 437  11 438 741 790 960\n",
      " 690 812  29 323 516  95 863 910 795 978 227 988 505 393 528 102 244 525\n",
      " 214 553 267 458 892 322 305 994 286 889 928 517  12 816 581 253 857  75\n",
      "  15 352 897 680  25 509 268 152 661 488 145  88  58 995 138 748 782  63\n",
      " 561 385 426 241 891  10 315 479 476 630 248 760 198 245 934 866 839 982\n",
      " 146 922 431  65  73 445 499 842 660 240 224 621 549 629  85 318 903 559\n",
      " 259 221 719 203 127 780 409 825 786 182 567 345 961 360  32 644  66 610\n",
      " 519 598 363  78 570 740 732  31  67 162 398  22 620 129 742 272 695 202\n",
      " 269 745 460 791 771 703 972 370 265 154 165 483 666 107 348 941 120 968\n",
      " 537 547  87 473  64 775 824 971 571 308 647 465 522 444  97 507 659 541\n",
      " 845 817 433  43 655  55 376 314 464 727 218 405 500 607  80  51 230 141\n",
      " 188 204 675 190 877   3 235 171 874 873 711 283 467 984 249  47 394 879\n",
      "  16 762 106   9 558 279  13 539 189 196 797 258  50 306   0 250 290 957\n",
      " 187 185 597 798 178 212 195 931 671 738  92 835 151 236 935  49 881 407\n",
      " 806 490 254 255 340 354 117 115 456 976 123 670 423 618 231 735 546 211\n",
      "  76 871 524 366 883 576 417 635  24 518 251 577  98 356 418 682 563 550\n",
      " 651 894 698 756 777 342 715 831 641 826 312 600 510 906 300 802 421 536\n",
      " 167 263 468 665 408 669 792 470 428 769 796 753 569 480 801 987 902  30\n",
      "  77 449 861 296  28 907 809 400 746 166  93 663 149 804 359 793 242 529\n",
      " 329 973 688 981 113 199 619 640 508 485 684 387 135 855 179 210 139 557\n",
      " 768 733 948 336 869 609  69  71 789 164 673 739 137 884 174 410 614 613\n",
      " 555  27 712 313 589 197 955 602 469 301 754 440 134 206  53 484 392 886\n",
      " 527 271 462  61 977 126 713 946  57 722   1 150 302 985  83 639 551 477\n",
      " 351 681 674 299 755  35 430 805 737 634 209 274 346 118 257 820 487 116\n",
      " 899 335 562 830 542 969 686 580  89 463 155 878 926 371 303 380 105 504\n",
      " 882  96 885 930 989 849 404 451 631 401 361 970 996 506  44 497 583 867\n",
      " 717 368 183 723 624 384 846 752 316 520 827 764 685 929 856 521 611 153\n",
      " 217  38 379  48 374 828 575 743 697 853 295 331 672 573 132 288 121  84\n",
      " 486 822  20 657 415 349 420 880 280 949  82 860 481 951 696 943 747 939\n",
      " 694 767 434 837 332 225 494 201 890 643 143 724 175 909 173 913 677 656\n",
      " 447 311 875 334 124 501 851 993 233 474 654 252 466 991 333 953 538 650\n",
      " 122  37 841 266 599 623 411 111 238 813 554 390 915 585 924 566 157 533\n",
      " 785 983 847  68 275  81 947 578 710 627 616 294 246 472 705 728 226 852\n",
      " 667 736 264 709 281 893  74   6 223 297  59 457 850 800 918 291 967 582\n",
      " 310 136 192 321 595 133 908 543 662 452 503 191 495 383 324 950 683 632\n",
      " 692 605 207 350 637 215 448 293 763 927 963 194 432 840 289 868 325 328\n",
      " 239  60 612 319 169 992 900 344 708 818 108 823 649 552 416 220 699 658\n",
      " 498 774  21 471 347 284 916 838 870 237 954 998 664 234 338 222  34 381\n",
      " 442  94 718 938 413 200 439  86 395 131 626 144 531 193 530 584 534 535\n",
      " 933 276 441 205 862 459 160 406 645 475 833 876 590 114 986 720 326 243\n",
      " 700 925 888 177 544 794 147  45  36 676 446 761 652 337 512 367 532  18\n",
      " 262 923 730 130 482 427 725 181 952 646 353 161 810 396 172 687   5 679\n",
      " 726 766 343 309 168  46 959 128 937 320 228 714 691 836 945 814 375 502\n",
      " 858 591 373 496 574 270 772 493 478 787 608  40 412 778 587 156   8 678\n",
      " 450 548 731 104 461 292 109 633 921  42 956 965 112 403 788 556 776 219\n",
      " 282 904 707 419 125  72 489 565 604 932 119 896 397 974 414 940 148  99\n",
      " 944 864 887 453 425 702 184 901 689 744 758 819 180 455 773 844 443 429\n",
      " 975 256 751 757 622   4 389  79 854 911]\n"
     ]
    }
   ],
   "source": [
    "# We create a random permutation of integers 0 to 4\n",
    "np.random.permutation(5)\n",
    "\n",
    "# Create a rank 1 ndarray that contains a random permutation of the row indices of `X_norm`\n",
    "row_indices = np.random.permutation(X_norm.shape[0])\n",
    "print(row_indices)"
   ]
  },
  {
   "cell_type": "markdown",
   "metadata": {},
   "source": [
    "# To Do\n",
    "\n",
    "In the space below create a rank 1 ndarray that contains a random permutation of the row indices of `X_norm`. You can do this in one line of code by extracting the number of rows of `X_norm` using the `shape` attribute and then passing it to the  `np.random.permutation()` function. Remember the `shape` attribute returns a tuple with two numbers in the form `(rows,columns)`."
   ]
  },
  {
   "cell_type": "code",
   "execution_count": 14,
   "metadata": {},
   "outputs": [],
   "source": [
    "# Make any necessary calculations.\n",
    "# You can save your calculations into variables to use later.\n",
    "\n",
    "\n",
    "# Create a Training Set\n",
    "X_train = X_norm[row_indices][0:600]\n",
    "\n",
    "# Create a Cross Validation Set\n",
    "X_crossVal = X_norm[row_indices][600:800]\n",
    "\n",
    "\n",
    "# Create a Test Set\n",
    "X_test = X_norm[row_indices][800:1000]\n"
   ]
  },
  {
   "cell_type": "markdown",
   "metadata": {},
   "source": [
    "Now you can create the three datasets using the `row_indices` ndarray to select the rows that will go into each dataset. Rememeber that the Training Set contains 60% of the data, the Cross Validation Set contains 20% of the data, and the Test Set contains 20% of the data. Each set requires just one line of code to create. Fill in the code below"
   ]
  },
  {
   "cell_type": "markdown",
   "metadata": {},
   "source": [
    "If you performed the above calculations correctly, then `X_tain` should have 600 rows and 20 columns, `X_crossVal` should have 200 rows and 20 columns, and `X_test` should have 200 rows and 20 columns. You can verify this by filling the code below:"
   ]
  },
  {
   "cell_type": "code",
   "execution_count": 18,
   "metadata": {},
   "outputs": [
    {
     "name": "stdout",
     "output_type": "stream",
     "text": [
      "(600, 20)\n",
      "(200, 20)\n",
      "(200, 20)\n"
     ]
    }
   ],
   "source": [
    "# Print the shape of X_train\n",
    "print(X_train.shape)\n",
    "\n",
    "# Print the shape of X_crossVal\n",
    "print(X_crossVal.shape)\n",
    "\n",
    "# Print the shape of X_test\n",
    "print(X_test.shape)"
   ]
  },
  {
   "cell_type": "code",
   "execution_count": null,
   "metadata": {},
   "outputs": [],
   "source": [
    "\n",
    "\n",
    "\n"
   ]
  }
 ],
 "metadata": {
  "kernelspec": {
   "display_name": "Python 3",
   "language": "python",
   "name": "python3"
  },
  "language_info": {
   "codemirror_mode": {
    "name": "ipython",
    "version": 3
   },
   "file_extension": ".py",
   "mimetype": "text/x-python",
   "name": "python",
   "nbconvert_exporter": "python",
   "pygments_lexer": "ipython3",
   "version": "3.6.3"
  }
 },
 "nbformat": 4,
 "nbformat_minor": 2
}
